{
 "cells": [
  {
   "cell_type": "markdown",
   "id": "5c0e4f27",
   "metadata": {},
   "source": [
    "## Семинар №6: Функциональное программирование"
   ]
  },
  {
   "cell_type": "markdown",
   "id": "bf81ad4c",
   "metadata": {},
   "source": [
    "__5) Реализовать функцию вычисления факториала с помощью хвостовой рекурсии.__"
   ]
  },
  {
   "cell_type": "code",
   "execution_count": 1,
   "id": "d3fce143",
   "metadata": {},
   "outputs": [],
   "source": [
    "# Your code\n"
   ]
  },
  {
   "cell_type": "markdown",
   "id": "74d2f201",
   "metadata": {},
   "source": [
    "__6) Реализовать функцию подсчета n-го числа Фибоначчи с помощью хвостовой рекурсии.__"
   ]
  },
  {
   "cell_type": "code",
   "execution_count": 2,
   "id": "dde189c4",
   "metadata": {},
   "outputs": [],
   "source": [
    "# Your code\n"
   ]
  },
  {
   "cell_type": "markdown",
   "id": "a8668339",
   "metadata": {},
   "source": [
    "__7) Реализовать декоратор, который выводит на печать возвращаемые значения функции.__"
   ]
  },
  {
   "cell_type": "code",
   "execution_count": 3,
   "id": "aa106b79",
   "metadata": {},
   "outputs": [],
   "source": [
    "# Your code\n"
   ]
  },
  {
   "cell_type": "markdown",
   "id": "bad90818",
   "metadata": {},
   "source": [
    "__8) С помощью декоратора реализовать отладочный вывод работы factorial(n) как для вызовов функций, так и для возвращаемых значений.__"
   ]
  },
  {
   "cell_type": "code",
   "execution_count": 4,
   "id": "911e2c68",
   "metadata": {},
   "outputs": [],
   "source": [
    "# Your code\n"
   ]
  },
  {
   "cell_type": "markdown",
   "id": "ca73d2f1",
   "metadata": {},
   "source": [
    "__9) Модернизировать пункт 8) при помощи functools.wraps().__\n",
    "\n",
    "https://stackoverflow.com/a/309000)"
   ]
  },
  {
   "cell_type": "code",
   "execution_count": 5,
   "id": "893683a1",
   "metadata": {},
   "outputs": [],
   "source": [
    "# Your code\n"
   ]
  },
  {
   "cell_type": "markdown",
   "id": "32b5036a",
   "metadata": {},
   "source": [
    "__10) Реализовать декоратор, который выводит на печать имя функции и ее аргументы (на одной строке) и длительность исполнения и возвращаемые значения функции (на другой строке). Вывод на печать оформляется отступами, соответсвующими вложенности вызова функции.__\n",
    "\n",
    "Проверить на запуске рекурсивной реализации получения чисел Фибоначчи."
   ]
  },
  {
   "cell_type": "code",
   "execution_count": 6,
   "id": "978fd35d",
   "metadata": {},
   "outputs": [],
   "source": [
    "# Your code\n"
   ]
  }
 ],
 "metadata": {
  "kernelspec": {
   "display_name": "Python 3 (ipykernel)",
   "language": "python",
   "name": "python3"
  },
  "language_info": {
   "codemirror_mode": {
    "name": "ipython",
    "version": 3
   },
   "file_extension": ".py",
   "mimetype": "text/x-python",
   "name": "python",
   "nbconvert_exporter": "python",
   "pygments_lexer": "ipython3",
   "version": "3.9.7"
  }
 },
 "nbformat": 4,
 "nbformat_minor": 5
}
